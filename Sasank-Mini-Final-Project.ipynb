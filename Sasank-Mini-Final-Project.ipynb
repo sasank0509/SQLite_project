{
 "cells": [
  {
   "cell_type": "markdown",
   "metadata": {},
   "source": [
    "# Mini Final Project (20 Points)\n",
    "\n",
    "<span style=\"background:yellow\">You are required to complete this project individually. </span>\n",
    "\n",
    "**Your task for this project is to build a SQLite database using the csv files below, then perform some analytics.**\n",
    "\n",
    "This project is a toy example for the **ETL pipeline**. ETL stands for extraction, transformation, and loading. In this pipeline, we extract data from various sources,  transform the data with respect to a design (i.e., ERD), and load the transformed data to a database.  \n",
    "\n",
    "This project will involve three related CSV files.\n",
    "  * [play_list_music.csv](./play_list_music.csv)\n",
    "  * [play_list_track_customers.csv](./play_list_track_customers.csv)\n",
    "  * [play_list_track_buy.csv](./play_list_track_buy.csv)\n",
    "  \n",
    "This project could be broken down into the following tasks:\n",
    "\n",
    "  1. Manually inspect the files and design a database. <span style=\"background:yellow\">(Done for you)</span>\n",
    "  1. Implement your database design. <span style=\"background:yellow\">(Partially done)</span>\n",
    "  1. Load data from files into database. <span style=\"background:yellow\">(Partially done)</span>\n",
    "  1. Write some basic queries.<span style=\"background:yellow\">(Partially done)</span>\n",
    "\n",
    "\n",
    "<span style=\"background:yellow\">Please focus on the `<write your code>` indicators. You will see many parts of the code is done for you. Note that you are required to run those cell in order to make the project work.</span>\n",
    "\n",
    "All your code should be implemented in this notebook.\n",
    "Below the notebook is partitioned into markdown and code execution cells."
   ]
  },
  {
   "cell_type": "markdown",
   "metadata": {},
   "source": [
    "## Task 1: Design a database. (Done for you)\n",
    "\n",
    "There is no implementation cell, the deliverable is the ERD, which is done for you. We will be following this ERD for implementing the database\n",
    "\n",
    "![alt text](music-store.png \"A music store ERD\")"
   ]
  },
  {
   "cell_type": "markdown",
   "metadata": {},
   "source": [
    "## Task 2: Connect to the database (Done for you)\n",
    "\n",
    "We will use [JupySQL](https://github.com/ploomber/jupysql) and [sqlalchemy](https://www.sqlalchemy.org/) packages for creating a database, tables, and peforming SQL queries via SQL magic funciton. \n",
    "\n",
    "For processing csv files, we will use [pandas](https://pandas.pydata.org/), the most popular data manipulation library. "
   ]
  },
  {
   "cell_type": "code",
   "execution_count": 4,
   "metadata": {},
   "outputs": [
    {
     "name": "stdout",
     "output_type": "stream",
     "text": [
      "Collecting jupysql\n",
      "  Obtaining dependency information for jupysql from https://files.pythonhosted.org/packages/f1/99/6e11571f053eda5e1c6aa3dcc61539332ac916231aa499b4c19ecd344b9a/jupysql-0.10.12-py3-none-any.whl.metadata\n",
      "  Downloading jupysql-0.10.12-py3-none-any.whl.metadata (5.6 kB)\n",
      "Collecting prettytable (from jupysql)\n",
      "  Obtaining dependency information for prettytable from https://files.pythonhosted.org/packages/c5/16/ec5cc65437dce97d2814a7ba31842b0ee958d102f6e99e264c35f15c328f/prettytable-3.10.2-py3-none-any.whl.metadata\n",
      "  Downloading prettytable-3.10.2-py3-none-any.whl.metadata (30 kB)\n",
      "Requirement already satisfied: sqlalchemy in c:\\users\\sasan\\anaconda3\\lib\\site-packages (from jupysql) (1.4.39)\n",
      "Collecting sqlparse (from jupysql)\n",
      "  Obtaining dependency information for sqlparse from https://files.pythonhosted.org/packages/5d/a5/b2860373aa8de1e626b2bdfdd6df4355f0565b47e51f7d0c54fe70faf8fe/sqlparse-0.5.1-py3-none-any.whl.metadata\n",
      "  Downloading sqlparse-0.5.1-py3-none-any.whl.metadata (3.9 kB)\n",
      "Requirement already satisfied: ipython-genutils>=0.1.0 in c:\\users\\sasan\\anaconda3\\lib\\site-packages (from jupysql) (0.2.0)\n",
      "Requirement already satisfied: jinja2 in c:\\users\\sasan\\anaconda3\\lib\\site-packages (from jupysql) (3.1.2)\n",
      "Collecting sqlglot>=11.3.7 (from jupysql)\n",
      "  Obtaining dependency information for sqlglot>=11.3.7 from https://files.pythonhosted.org/packages/0e/3b/64d69e0e1def90b01620a92cb0cfc47909d4a3b36b3c9924505108da981f/sqlglot-25.6.0-py3-none-any.whl.metadata\n",
      "  Downloading sqlglot-25.6.0-py3-none-any.whl.metadata (19 kB)\n",
      "Collecting jupysql-plugin>=0.4.2 (from jupysql)\n",
      "  Obtaining dependency information for jupysql-plugin>=0.4.2 from https://files.pythonhosted.org/packages/61/da/8bc10f0302e850640bb9d653aa36e06701e1aef3dda4e1ba3e689a118778/jupysql_plugin-0.4.4-py3-none-any.whl.metadata\n",
      "  Downloading jupysql_plugin-0.4.4-py3-none-any.whl.metadata (7.8 kB)\n",
      "Collecting ploomber-core>=0.2.7 (from jupysql)\n",
      "  Obtaining dependency information for ploomber-core>=0.2.7 from https://files.pythonhosted.org/packages/f4/93/835b343690ceabfde51346c663b7aef2e7211561d916c0a7d6cea32f1415/ploomber_core-0.2.25-py3-none-any.whl.metadata\n",
      "  Downloading ploomber_core-0.2.25-py3-none-any.whl.metadata (536 bytes)\n",
      "Collecting ploomber-extension (from jupysql)\n",
      "  Obtaining dependency information for ploomber-extension from https://files.pythonhosted.org/packages/a3/6e/231a5082655deb0040f17c16757ffd7f7b1aef9cd3617d1284c94ae036ec/ploomber_extension-0.1.1-py3-none-any.whl.metadata\n",
      "  Downloading ploomber_extension-0.1.1-py3-none-any.whl.metadata (7.5 kB)\n",
      "Requirement already satisfied: pyyaml in c:\\users\\sasan\\anaconda3\\lib\\site-packages (from ploomber-core>=0.2.7->jupysql) (6.0)\n",
      "Collecting posthog (from ploomber-core>=0.2.7->jupysql)\n",
      "  Obtaining dependency information for posthog from https://files.pythonhosted.org/packages/6c/5f/24cb22118db0e11703b6b80ef9f982eadde21eb585c3a769719e48dce893/posthog-3.5.0-py2.py3-none-any.whl.metadata\n",
      "  Downloading posthog-3.5.0-py2.py3-none-any.whl.metadata (2.0 kB)\n",
      "Requirement already satisfied: MarkupSafe>=2.0 in c:\\users\\sasan\\anaconda3\\lib\\site-packages (from jinja2->jupysql) (2.1.1)\n",
      "Requirement already satisfied: wcwidth in c:\\users\\sasan\\anaconda3\\lib\\site-packages (from prettytable->jupysql) (0.2.5)\n",
      "Requirement already satisfied: greenlet!=0.4.17 in c:\\users\\sasan\\anaconda3\\lib\\site-packages (from sqlalchemy->jupysql) (2.0.1)\n",
      "Requirement already satisfied: requests<3.0,>=2.7 in c:\\users\\sasan\\anaconda3\\lib\\site-packages (from posthog->ploomber-core>=0.2.7->jupysql) (2.31.0)\n",
      "Requirement already satisfied: six>=1.5 in c:\\users\\sasan\\anaconda3\\lib\\site-packages (from posthog->ploomber-core>=0.2.7->jupysql) (1.16.0)\n",
      "Collecting monotonic>=1.5 (from posthog->ploomber-core>=0.2.7->jupysql)\n",
      "  Obtaining dependency information for monotonic>=1.5 from https://files.pythonhosted.org/packages/9a/67/7e8406a29b6c45be7af7740456f7f37025f0506ae2e05fb9009a53946860/monotonic-1.6-py2.py3-none-any.whl.metadata\n",
      "  Downloading monotonic-1.6-py2.py3-none-any.whl.metadata (1.5 kB)\n",
      "Collecting backoff>=1.10.0 (from posthog->ploomber-core>=0.2.7->jupysql)\n",
      "  Obtaining dependency information for backoff>=1.10.0 from https://files.pythonhosted.org/packages/df/73/b6e24bd22e6720ca8ee9a85a0c4a2971af8497d8f3193fa05390cbd46e09/backoff-2.2.1-py3-none-any.whl.metadata\n",
      "  Downloading backoff-2.2.1-py3-none-any.whl.metadata (14 kB)\n",
      "Requirement already satisfied: python-dateutil>2.1 in c:\\users\\sasan\\anaconda3\\lib\\site-packages (from posthog->ploomber-core>=0.2.7->jupysql) (2.8.2)\n",
      "Requirement already satisfied: charset-normalizer<4,>=2 in c:\\users\\sasan\\anaconda3\\lib\\site-packages (from requests<3.0,>=2.7->posthog->ploomber-core>=0.2.7->jupysql) (2.0.4)\n",
      "Requirement already satisfied: idna<4,>=2.5 in c:\\users\\sasan\\anaconda3\\lib\\site-packages (from requests<3.0,>=2.7->posthog->ploomber-core>=0.2.7->jupysql) (3.4)\n",
      "Requirement already satisfied: urllib3<3,>=1.21.1 in c:\\users\\sasan\\anaconda3\\lib\\site-packages (from requests<3.0,>=2.7->posthog->ploomber-core>=0.2.7->jupysql) (1.26.16)\n",
      "Requirement already satisfied: certifi>=2017.4.17 in c:\\users\\sasan\\anaconda3\\lib\\site-packages (from requests<3.0,>=2.7->posthog->ploomber-core>=0.2.7->jupysql) (2024.6.2)\n",
      "Downloading jupysql-0.10.12-py3-none-any.whl (95 kB)\n",
      "   ---------------------------------------- 0.0/95.9 kB ? eta -:--:--\n",
      "   -------------------------------------- - 92.2/95.9 kB 2.6 MB/s eta 0:00:01\n",
      "   ---------------------------------------- 95.9/95.9 kB 1.8 MB/s eta 0:00:00\n",
      "Downloading jupysql_plugin-0.4.4-py3-none-any.whl (249 kB)\n",
      "   ---------------------------------------- 0.0/249.8 kB ? eta -:--:--\n",
      "   ------------------- -------------------- 122.9/249.8 kB 3.6 MB/s eta 0:00:01\n",
      "   ---------------------------------------  245.8/249.8 kB 3.0 MB/s eta 0:00:01\n",
      "   ---------------------------------------- 249.8/249.8 kB 2.5 MB/s eta 0:00:00\n",
      "Downloading ploomber_core-0.2.25-py3-none-any.whl (22 kB)\n",
      "Downloading sqlglot-25.6.0-py3-none-any.whl (391 kB)\n",
      "   ---------------------------------------- 0.0/391.5 kB ? eta -:--:--\n",
      "   ------------ --------------------------- 122.9/391.5 kB 3.6 MB/s eta 0:00:01\n",
      "   -------------------------- ------------- 256.0/391.5 kB 3.2 MB/s eta 0:00:01\n",
      "   ---------------------------------------  389.1/391.5 kB 2.7 MB/s eta 0:00:01\n",
      "   ---------------------------------------- 391.5/391.5 kB 2.2 MB/s eta 0:00:00\n",
      "Downloading ploomber_extension-0.1.1-py3-none-any.whl (193 kB)\n",
      "   ---------------------------------------- 0.0/193.1 kB ? eta -:--:--\n",
      "   ------------------------- -------------- 122.9/193.1 kB 2.4 MB/s eta 0:00:01\n",
      "   ---------------------------------------- 193.1/193.1 kB 2.3 MB/s eta 0:00:00\n",
      "Downloading prettytable-3.10.2-py3-none-any.whl (28 kB)\n",
      "Downloading sqlparse-0.5.1-py3-none-any.whl (44 kB)\n",
      "   ---------------------------------------- 0.0/44.2 kB ? eta -:--:--\n",
      "   ---------------------------------------- 44.2/44.2 kB ? eta 0:00:00\n",
      "Downloading posthog-3.5.0-py2.py3-none-any.whl (41 kB)\n",
      "   ---------------------------------------- 0.0/41.3 kB ? eta -:--:--\n",
      "   ---------------------------------------- 41.3/41.3 kB 1.9 MB/s eta 0:00:00\n",
      "Downloading backoff-2.2.1-py3-none-any.whl (15 kB)\n",
      "Downloading monotonic-1.6-py2.py3-none-any.whl (8.2 kB)\n",
      "Installing collected packages: monotonic, sqlparse, sqlglot, prettytable, backoff, posthog, ploomber-core, ploomber-extension, jupysql-plugin, jupysql\n",
      "Successfully installed backoff-2.2.1 jupysql-0.10.12 jupysql-plugin-0.4.4 monotonic-1.6 ploomber-core-0.2.25 ploomber-extension-0.1.1 posthog-3.5.0 prettytable-3.10.2 sqlglot-25.6.0 sqlparse-0.5.1\n",
      "Note: you may need to restart the kernel to use updated packages.\n"
     ]
    }
   ],
   "source": [
    "pip install jupysql"
   ]
  },
  {
   "cell_type": "code",
   "execution_count": 58,
   "metadata": {},
   "outputs": [],
   "source": [
    "import pandas as pd\n",
    "import numpy as np\n",
    "from sqlalchemy import create_engine"
   ]
  },
  {
   "cell_type": "code",
   "execution_count": 59,
   "metadata": {},
   "outputs": [],
   "source": [
    "engine = create_engine(\"sqlite:///music_store.db\")"
   ]
  },
  {
   "cell_type": "code",
   "execution_count": 60,
   "metadata": {},
   "outputs": [
    {
     "name": "stdout",
     "output_type": "stream",
     "text": [
      "The sql extension is already loaded. To reload it, use:\n",
      "  %reload_ext sql\n"
     ]
    }
   ],
   "source": [
    "%load_ext sql"
   ]
  },
  {
   "cell_type": "code",
   "execution_count": 61,
   "metadata": {},
   "outputs": [],
   "source": [
    "%sql engine"
   ]
  },
  {
   "cell_type": "markdown",
   "metadata": {},
   "source": [
    "## Task 3: Implement your database design (6 points)\n",
    "\n",
    "We will be ussing DDL to create tables in the database. Use the cells below to add your `CREATE TABLE` statements. Add extra cells as necessary.\n",
    "\n",
    "SQLite Data Types: https://www.sqlite.org/datatype3.html"
   ]
  },
  {
   "cell_type": "markdown",
   "metadata": {},
   "source": [
    "### 3.1: Create Customer table (Done for you)"
   ]
  },
  {
   "cell_type": "code",
   "execution_count": 62,
   "metadata": {},
   "outputs": [
    {
     "data": {
      "text/html": [
       "<span style=\"None\">Running query in &#x27;sqlite:///music_store.db&#x27;</span>"
      ],
      "text/plain": [
       "Running query in 'sqlite:///music_store.db'"
      ]
     },
     "metadata": {},
     "output_type": "display_data"
    },
    {
     "data": {
      "text/html": [
       "<table>\n",
       "    <thead>\n",
       "        <tr>\n",
       "        </tr>\n",
       "    </thead>\n",
       "    <tbody>\n",
       "    </tbody>\n",
       "</table>"
      ],
      "text/plain": [
       "++\n",
       "||\n",
       "++\n",
       "++"
      ]
     },
     "execution_count": 62,
     "metadata": {},
     "output_type": "execute_result"
    }
   ],
   "source": [
    "%%sql\n",
    "\n",
    "DROP TABLE IF EXISTS Customer;\n",
    "\n",
    "-- This statement will help us repeat the experiment without deleting \n",
    "-- the database everytime"
   ]
  },
  {
   "cell_type": "code",
   "execution_count": 63,
   "metadata": {},
   "outputs": [
    {
     "data": {
      "text/html": [
       "<span style=\"None\">Running query in &#x27;sqlite:///music_store.db&#x27;</span>"
      ],
      "text/plain": [
       "Running query in 'sqlite:///music_store.db'"
      ]
     },
     "metadata": {},
     "output_type": "display_data"
    },
    {
     "data": {
      "text/html": [
       "<table>\n",
       "    <thead>\n",
       "        <tr>\n",
       "        </tr>\n",
       "    </thead>\n",
       "    <tbody>\n",
       "    </tbody>\n",
       "</table>"
      ],
      "text/plain": [
       "++\n",
       "||\n",
       "++\n",
       "++"
      ]
     },
     "execution_count": 63,
     "metadata": {},
     "output_type": "execute_result"
    }
   ],
   "source": [
    "%%sql \n",
    "\n",
    "CREATE TABLE Customer(\n",
    "        customerid bigint primary key,\n",
    "        firstname text,\n",
    "        lastname text,\n",
    "        company text,\n",
    "        address text,\n",
    "        city text,\n",
    "        state text,\n",
    "        country text,\n",
    "        postalcode text,\n",
    "        Phone text,\n",
    "        fax text,\n",
    "        email text\n",
    ");"
   ]
  },
  {
   "cell_type": "markdown",
   "metadata": {},
   "source": [
    "We can check whether the table is created correctly in various ways. One way is to check the schema. "
   ]
  },
  {
   "cell_type": "code",
   "execution_count": 64,
   "metadata": {},
   "outputs": [
    {
     "data": {
      "text/html": [
       "<span style=\"None\">Running query in &#x27;sqlite:///music_store.db&#x27;</span>"
      ],
      "text/plain": [
       "Running query in 'sqlite:///music_store.db'"
      ]
     },
     "metadata": {},
     "output_type": "display_data"
    },
    {
     "data": {
      "text/html": [
       "<table>\n",
       "    <thead>\n",
       "        <tr>\n",
       "            <th>sql</th>\n",
       "        </tr>\n",
       "    </thead>\n",
       "    <tbody>\n",
       "        <tr>\n",
       "            <td>CREATE TABLE Customer(<br>        customerid bigint primary key,<br>        firstname text,<br>        lastname text,<br>        company text,<br>        address text,<br>        city text,<br>        state text,<br>        country text,<br>        postalcode text,<br>        Phone text,<br>        fax text,<br>        email text<br>)</td>\n",
       "        </tr>\n",
       "    </tbody>\n",
       "</table>"
      ],
      "text/plain": [
       "+----------------------------------------+\n",
       "|                  sql                   |\n",
       "+----------------------------------------+\n",
       "|         CREATE TABLE Customer(         |\n",
       "|         customerid bigint primary key, |\n",
       "|                firstname text,         |\n",
       "|                 lastname text,         |\n",
       "|                 company text,          |\n",
       "|                 address text,          |\n",
       "|                   city text,           |\n",
       "|                  state text,           |\n",
       "|                 country text,          |\n",
       "|                postalcode text,        |\n",
       "|                  Phone text,           |\n",
       "|                   fax text,            |\n",
       "|                   email text           |\n",
       "|                   )                    |\n",
       "+----------------------------------------+"
      ]
     },
     "execution_count": 64,
     "metadata": {},
     "output_type": "execute_result"
    }
   ],
   "source": [
    "%%sql \n",
    "\n",
    "SELECT sql FROM sqlite_schema WHERE name='Customer';"
   ]
  },
  {
   "cell_type": "markdown",
   "metadata": {},
   "source": [
    "The table should be empty. "
   ]
  },
  {
   "cell_type": "code",
   "execution_count": 65,
   "metadata": {},
   "outputs": [
    {
     "data": {
      "text/html": [
       "<span style=\"None\">Running query in &#x27;sqlite:///music_store.db&#x27;</span>"
      ],
      "text/plain": [
       "Running query in 'sqlite:///music_store.db'"
      ]
     },
     "metadata": {},
     "output_type": "display_data"
    },
    {
     "data": {
      "text/html": [
       "<table>\n",
       "    <thead>\n",
       "        <tr>\n",
       "            <th>count(*)</th>\n",
       "        </tr>\n",
       "    </thead>\n",
       "    <tbody>\n",
       "        <tr>\n",
       "            <td>0</td>\n",
       "        </tr>\n",
       "    </tbody>\n",
       "</table>"
      ],
      "text/plain": [
       "+----------+\n",
       "| count(*) |\n",
       "+----------+\n",
       "|    0     |\n",
       "+----------+"
      ]
     },
     "execution_count": 65,
     "metadata": {},
     "output_type": "execute_result"
    }
   ],
   "source": [
    "%%sql \n",
    "\n",
    "SELECT count(*) from Customer;"
   ]
  },
  {
   "cell_type": "markdown",
   "metadata": {},
   "source": [
    "### 3.2: Create Track table (2 points)"
   ]
  },
  {
   "cell_type": "code",
   "execution_count": 66,
   "metadata": {},
   "outputs": [
    {
     "data": {
      "text/html": [
       "<span style=\"None\">Running query in &#x27;sqlite:///music_store.db&#x27;</span>"
      ],
      "text/plain": [
       "Running query in 'sqlite:///music_store.db'"
      ]
     },
     "metadata": {},
     "output_type": "display_data"
    },
    {
     "data": {
      "text/html": [
       "<table>\n",
       "    <thead>\n",
       "        <tr>\n",
       "        </tr>\n",
       "    </thead>\n",
       "    <tbody>\n",
       "    </tbody>\n",
       "</table>"
      ],
      "text/plain": [
       "++\n",
       "||\n",
       "++\n",
       "++"
      ]
     },
     "execution_count": 66,
     "metadata": {},
     "output_type": "execute_result"
    }
   ],
   "source": [
    "%%sql \n",
    "\n",
    "DROP TABLE IF EXISTS Track; "
   ]
  },
  {
   "cell_type": "code",
   "execution_count": 67,
   "metadata": {},
   "outputs": [
    {
     "data": {
      "text/html": [
       "<span style=\"None\">Running query in &#x27;sqlite:///music_store.db&#x27;</span>"
      ],
      "text/plain": [
       "Running query in 'sqlite:///music_store.db'"
      ]
     },
     "metadata": {},
     "output_type": "display_data"
    },
    {
     "data": {
      "text/html": [
       "<table>\n",
       "    <thead>\n",
       "        <tr>\n",
       "        </tr>\n",
       "    </thead>\n",
       "    <tbody>\n",
       "    </tbody>\n",
       "</table>"
      ],
      "text/plain": [
       "++\n",
       "||\n",
       "++\n",
       "++"
      ]
     },
     "execution_count": 67,
     "metadata": {},
     "output_type": "execute_result"
    }
   ],
   "source": [
    "%%sql \n",
    "\n",
    "CREATE TABLE Track (\n",
    "    trackid bigint primary key,\n",
    "    song text,\n",
    "    artist text,\n",
    "    album text,\n",
    "    media_type text,\n",
    "    genre text,\n",
    "    Bytes bigint\n",
    "    \n",
    "         \n",
    "    );\n",
    "\n"
   ]
  },
  {
   "cell_type": "markdown",
   "metadata": {},
   "source": [
    "### 3.3: Create Playlist table (2 points)"
   ]
  },
  {
   "cell_type": "code",
   "execution_count": 68,
   "metadata": {},
   "outputs": [
    {
     "data": {
      "text/html": [
       "<span style=\"None\">Running query in &#x27;sqlite:///music_store.db&#x27;</span>"
      ],
      "text/plain": [
       "Running query in 'sqlite:///music_store.db'"
      ]
     },
     "metadata": {},
     "output_type": "display_data"
    },
    {
     "data": {
      "text/html": [
       "<table>\n",
       "    <thead>\n",
       "        <tr>\n",
       "        </tr>\n",
       "    </thead>\n",
       "    <tbody>\n",
       "    </tbody>\n",
       "</table>"
      ],
      "text/plain": [
       "++\n",
       "||\n",
       "++\n",
       "++"
      ]
     },
     "execution_count": 68,
     "metadata": {},
     "output_type": "execute_result"
    }
   ],
   "source": [
    "%%sql \n",
    "\n",
    "DROP TABLE IF EXISTS Playlist; "
   ]
  },
  {
   "cell_type": "code",
   "execution_count": 69,
   "metadata": {},
   "outputs": [
    {
     "data": {
      "text/html": [
       "<span style=\"None\">Running query in &#x27;sqlite:///music_store.db&#x27;</span>"
      ],
      "text/plain": [
       "Running query in 'sqlite:///music_store.db'"
      ]
     },
     "metadata": {},
     "output_type": "display_data"
    },
    {
     "data": {
      "text/html": [
       "<table>\n",
       "    <thead>\n",
       "        <tr>\n",
       "        </tr>\n",
       "    </thead>\n",
       "    <tbody>\n",
       "    </tbody>\n",
       "</table>"
      ],
      "text/plain": [
       "++\n",
       "||\n",
       "++\n",
       "++"
      ]
     },
     "execution_count": 69,
     "metadata": {},
     "output_type": "execute_result"
    }
   ],
   "source": [
    "%%sql \n",
    "\n",
    "CREATE TABLE Playlist (\n",
    "    playlistid integer primary key,\n",
    "    playlistname text\n",
    "    \n",
    ")\n"
   ]
  },
  {
   "cell_type": "markdown",
   "metadata": {},
   "source": [
    "### 3.4: Create PlaylistTrack table (Done for you)"
   ]
  },
  {
   "cell_type": "code",
   "execution_count": 70,
   "metadata": {},
   "outputs": [
    {
     "data": {
      "text/html": [
       "<span style=\"None\">Running query in &#x27;sqlite:///music_store.db&#x27;</span>"
      ],
      "text/plain": [
       "Running query in 'sqlite:///music_store.db'"
      ]
     },
     "metadata": {},
     "output_type": "display_data"
    },
    {
     "data": {
      "text/html": [
       "<table>\n",
       "    <thead>\n",
       "        <tr>\n",
       "        </tr>\n",
       "    </thead>\n",
       "    <tbody>\n",
       "    </tbody>\n",
       "</table>"
      ],
      "text/plain": [
       "++\n",
       "||\n",
       "++\n",
       "++"
      ]
     },
     "execution_count": 70,
     "metadata": {},
     "output_type": "execute_result"
    }
   ],
   "source": [
    "%%sql \n",
    "\n",
    "DROP TABLE IF EXISTS PlaylistTrack; "
   ]
  },
  {
   "cell_type": "code",
   "execution_count": 71,
   "metadata": {},
   "outputs": [
    {
     "data": {
      "text/html": [
       "<span style=\"None\">Running query in &#x27;sqlite:///music_store.db&#x27;</span>"
      ],
      "text/plain": [
       "Running query in 'sqlite:///music_store.db'"
      ]
     },
     "metadata": {},
     "output_type": "display_data"
    },
    {
     "data": {
      "text/html": [
       "<table>\n",
       "    <thead>\n",
       "        <tr>\n",
       "        </tr>\n",
       "    </thead>\n",
       "    <tbody>\n",
       "    </tbody>\n",
       "</table>"
      ],
      "text/plain": [
       "++\n",
       "||\n",
       "++\n",
       "++"
      ]
     },
     "execution_count": 71,
     "metadata": {},
     "output_type": "execute_result"
    }
   ],
   "source": [
    "%%sql \n",
    "\n",
    "CREATE TABLE PlaylistTrack (\n",
    "    playlistid integer,\n",
    "    trackid bigint,\n",
    "    primary key(playlistid,trackid),\n",
    "    foreign key(playlistid) references Playlist(playlistid),\n",
    "    foreign key(trackid) references Track(trackid)\n",
    ");"
   ]
  },
  {
   "cell_type": "markdown",
   "metadata": {},
   "source": [
    "### 3.5: Create Purchase table (2 points)"
   ]
  },
  {
   "cell_type": "code",
   "execution_count": 72,
   "metadata": {},
   "outputs": [
    {
     "data": {
      "text/html": [
       "<span style=\"None\">Running query in &#x27;sqlite:///music_store.db&#x27;</span>"
      ],
      "text/plain": [
       "Running query in 'sqlite:///music_store.db'"
      ]
     },
     "metadata": {},
     "output_type": "display_data"
    },
    {
     "data": {
      "text/html": [
       "<table>\n",
       "    <thead>\n",
       "        <tr>\n",
       "        </tr>\n",
       "    </thead>\n",
       "    <tbody>\n",
       "    </tbody>\n",
       "</table>"
      ],
      "text/plain": [
       "++\n",
       "||\n",
       "++\n",
       "++"
      ]
     },
     "execution_count": 72,
     "metadata": {},
     "output_type": "execute_result"
    }
   ],
   "source": [
    "%%sql \n",
    "\n",
    "DROP TABLE IF EXISTS Purchase; \n",
    "\n",
    "CREATE TABLE Purchase (\n",
    "    invoiceid bigint,\n",
    "    trackid bigint,\n",
    "    customerid bigint,\n",
    "    unitprice real,\n",
    "    primary key(invoiceid,trackid,customerid)\n",
    "    foreign key(trackid) references Track(trackid),\n",
    "    foreign key (customerid) references Customer(customerid)\n",
    "    \n",
    "    \n",
    "    \n",
    "    \n",
    "        );"
   ]
  },
  {
   "cell_type": "markdown",
   "metadata": {},
   "source": [
    "## Task 4: Data Cleaning and Grooming (2 points)\n",
    "\n",
    "Use Pyhton or Excel to carve the provided CSV files above into the set of appropriate dataframes you need to load into your database. If you would like you can do the data cleaning either in python or in excel. \n",
    "\n",
    "This step may could include removing unneeded columns, removing duplicate rows, cascade of changes across cvs files, and more. \n",
    "\n",
    "In the following cells, the necessary Python code for curating the data is given. If you prefer Excel, then you can skip this step. "
   ]
  },
  {
   "cell_type": "markdown",
   "metadata": {},
   "source": [
    "### Task 4.1 Load data `from play_list_music.csv`"
   ]
  },
  {
   "cell_type": "code",
   "execution_count": 73,
   "metadata": {},
   "outputs": [],
   "source": [
    "df_music = pd.read_csv('play_list_music.csv')"
   ]
  },
  {
   "cell_type": "markdown",
   "metadata": {},
   "source": [
    "Let's inspect the first 5 rows"
   ]
  },
  {
   "cell_type": "code",
   "execution_count": 74,
   "metadata": {},
   "outputs": [
    {
     "data": {
      "text/html": [
       "<div>\n",
       "<style scoped>\n",
       "    .dataframe tbody tr th:only-of-type {\n",
       "        vertical-align: middle;\n",
       "    }\n",
       "\n",
       "    .dataframe tbody tr th {\n",
       "        vertical-align: top;\n",
       "    }\n",
       "\n",
       "    .dataframe thead th {\n",
       "        text-align: right;\n",
       "    }\n",
       "</style>\n",
       "<table border=\"1\" class=\"dataframe\">\n",
       "  <thead>\n",
       "    <tr style=\"text-align: right;\">\n",
       "      <th></th>\n",
       "      <th>trackid</th>\n",
       "      <th>artist</th>\n",
       "      <th>album</th>\n",
       "      <th>song</th>\n",
       "      <th>playlist</th>\n",
       "      <th>media_type</th>\n",
       "      <th>genre</th>\n",
       "      <th>Bytes</th>\n",
       "    </tr>\n",
       "  </thead>\n",
       "  <tbody>\n",
       "    <tr>\n",
       "      <th>0</th>\n",
       "      <td>1</td>\n",
       "      <td>AC/DC</td>\n",
       "      <td>For Those About To Rock We Salute You</td>\n",
       "      <td>For Those About To Rock (We Salute You)</td>\n",
       "      <td>Music</td>\n",
       "      <td>MPEG audio file</td>\n",
       "      <td>Rock</td>\n",
       "      <td>11170334</td>\n",
       "    </tr>\n",
       "    <tr>\n",
       "      <th>1</th>\n",
       "      <td>1</td>\n",
       "      <td>AC/DC</td>\n",
       "      <td>For Those About To Rock We Salute You</td>\n",
       "      <td>For Those About To Rock (We Salute You)</td>\n",
       "      <td>Heavy Metal Classic</td>\n",
       "      <td>MPEG audio file</td>\n",
       "      <td>Rock</td>\n",
       "      <td>11170334</td>\n",
       "    </tr>\n",
       "    <tr>\n",
       "      <th>2</th>\n",
       "      <td>6</td>\n",
       "      <td>AC/DC</td>\n",
       "      <td>For Those About To Rock We Salute You</td>\n",
       "      <td>Put The Finger On You</td>\n",
       "      <td>Music</td>\n",
       "      <td>MPEG audio file</td>\n",
       "      <td>Rock</td>\n",
       "      <td>6713451</td>\n",
       "    </tr>\n",
       "    <tr>\n",
       "      <th>3</th>\n",
       "      <td>7</td>\n",
       "      <td>AC/DC</td>\n",
       "      <td>For Those About To Rock We Salute You</td>\n",
       "      <td>Let's Get It Up</td>\n",
       "      <td>Music</td>\n",
       "      <td>MPEG audio file</td>\n",
       "      <td>Rock</td>\n",
       "      <td>7636561</td>\n",
       "    </tr>\n",
       "    <tr>\n",
       "      <th>4</th>\n",
       "      <td>8</td>\n",
       "      <td>AC/DC</td>\n",
       "      <td>For Those About To Rock We Salute You</td>\n",
       "      <td>Inject The Venom</td>\n",
       "      <td>Music</td>\n",
       "      <td>MPEG audio file</td>\n",
       "      <td>Rock</td>\n",
       "      <td>6852860</td>\n",
       "    </tr>\n",
       "  </tbody>\n",
       "</table>\n",
       "</div>"
      ],
      "text/plain": [
       "   trackid artist                                  album  \\\n",
       "0        1  AC/DC  For Those About To Rock We Salute You   \n",
       "1        1  AC/DC  For Those About To Rock We Salute You   \n",
       "2        6  AC/DC  For Those About To Rock We Salute You   \n",
       "3        7  AC/DC  For Those About To Rock We Salute You   \n",
       "4        8  AC/DC  For Those About To Rock We Salute You   \n",
       "\n",
       "                                      song             playlist  \\\n",
       "0  For Those About To Rock (We Salute You)                Music   \n",
       "1  For Those About To Rock (We Salute You)  Heavy Metal Classic   \n",
       "2                    Put The Finger On You                Music   \n",
       "3                          Let's Get It Up                Music   \n",
       "4                         Inject The Venom                Music   \n",
       "\n",
       "        media_type genre     Bytes  \n",
       "0  MPEG audio file  Rock  11170334  \n",
       "1  MPEG audio file  Rock  11170334  \n",
       "2  MPEG audio file  Rock   6713451  \n",
       "3  MPEG audio file  Rock   7636561  \n",
       "4  MPEG audio file  Rock   6852860  "
      ]
     },
     "execution_count": 74,
     "metadata": {},
     "output_type": "execute_result"
    }
   ],
   "source": [
    "df_music.head()"
   ]
  },
  {
   "cell_type": "markdown",
   "metadata": {},
   "source": [
    "#### 4.1.1 Curate data for the Track table (Done)\n",
    "If we look at Track relation in the given ERD, this dataframe contains that all required attributes for this table. We can simply subset the necessary column for this table. "
   ]
  },
  {
   "cell_type": "code",
   "execution_count": 75,
   "metadata": {},
   "outputs": [],
   "source": [
    "df_track = df_music[['trackid', 'artist', 'album', 'song',\n",
    "                   'media_type', 'genre', 'Bytes']].copy()"
   ]
  },
  {
   "cell_type": "code",
   "execution_count": 76,
   "metadata": {},
   "outputs": [
    {
     "data": {
      "text/plain": [
       "(5212, 7)"
      ]
     },
     "execution_count": 76,
     "metadata": {},
     "output_type": "execute_result"
    }
   ],
   "source": [
    "df_track.shape"
   ]
  },
  {
   "cell_type": "markdown",
   "metadata": {},
   "source": [
    "This `df_track` might have duplicates, which we need to remove as a relation cannot contain duplicate tuples. We can remove these duplicates as follows. "
   ]
  },
  {
   "cell_type": "code",
   "execution_count": 77,
   "metadata": {},
   "outputs": [],
   "source": [
    "df_track.drop_duplicates(inplace=True)"
   ]
  },
  {
   "cell_type": "code",
   "execution_count": 78,
   "metadata": {},
   "outputs": [
    {
     "data": {
      "text/plain": [
       "(3503, 7)"
      ]
     },
     "execution_count": 78,
     "metadata": {},
     "output_type": "execute_result"
    }
   ],
   "source": [
    "df_track.shape"
   ]
  },
  {
   "cell_type": "markdown",
   "metadata": {},
   "source": [
    "Now `df_track` is ready to be loaded into the `Track` table in the database. We will perform this loading in Section 5. Let's curate the data for the other tables. "
   ]
  },
  {
   "cell_type": "markdown",
   "metadata": {},
   "source": [
    "#### 4.1.2 Curate data for the Playlist table (Done)\n",
    "\n",
    "Now, this `df_music` also contains the necessary attribute (i.e. playlist name) for the playlist table. Once we extract the playlist name from this table, we can associate `playlistid` with the playlist names. "
   ]
  },
  {
   "cell_type": "code",
   "execution_count": 79,
   "metadata": {},
   "outputs": [],
   "source": [
    "# the following line gives us the unique playlist names in this datafame \n",
    "playlist_names = df_music['playlist'].unique()  "
   ]
  },
  {
   "cell_type": "code",
   "execution_count": 80,
   "metadata": {},
   "outputs": [
    {
     "data": {
      "text/plain": [
       "array(['Music', 'Heavy Metal Classic', '90’s Music', 'Grunge',\n",
       "       'Brazilian Music', 'On-The-Go 1', 'Classical',\n",
       "       'Classical 101 - The Basics', 'Classical 101 - Next Steps',\n",
       "       'Classical 101 - Deep Cuts', 'TV Shows', 'Music Videos'],\n",
       "      dtype=object)"
      ]
     },
     "execution_count": 80,
     "metadata": {},
     "output_type": "execute_result"
    }
   ],
   "source": [
    "# lets inspect these names\n",
    "playlist_names"
   ]
  },
  {
   "cell_type": "markdown",
   "metadata": {},
   "source": [
    "Now, we can create a dataframe for the `Playlist` table as follows. "
   ]
  },
  {
   "cell_type": "code",
   "execution_count": 81,
   "metadata": {},
   "outputs": [],
   "source": [
    "df_playlist = pd.DataFrame(playlist_names, columns=['playlistname'])"
   ]
  },
  {
   "cell_type": "code",
   "execution_count": 82,
   "metadata": {},
   "outputs": [
    {
     "data": {
      "text/html": [
       "<div>\n",
       "<style scoped>\n",
       "    .dataframe tbody tr th:only-of-type {\n",
       "        vertical-align: middle;\n",
       "    }\n",
       "\n",
       "    .dataframe tbody tr th {\n",
       "        vertical-align: top;\n",
       "    }\n",
       "\n",
       "    .dataframe thead th {\n",
       "        text-align: right;\n",
       "    }\n",
       "</style>\n",
       "<table border=\"1\" class=\"dataframe\">\n",
       "  <thead>\n",
       "    <tr style=\"text-align: right;\">\n",
       "      <th></th>\n",
       "      <th>playlistname</th>\n",
       "    </tr>\n",
       "  </thead>\n",
       "  <tbody>\n",
       "    <tr>\n",
       "      <th>0</th>\n",
       "      <td>Music</td>\n",
       "    </tr>\n",
       "    <tr>\n",
       "      <th>1</th>\n",
       "      <td>Heavy Metal Classic</td>\n",
       "    </tr>\n",
       "    <tr>\n",
       "      <th>2</th>\n",
       "      <td>90’s Music</td>\n",
       "    </tr>\n",
       "    <tr>\n",
       "      <th>3</th>\n",
       "      <td>Grunge</td>\n",
       "    </tr>\n",
       "    <tr>\n",
       "      <th>4</th>\n",
       "      <td>Brazilian Music</td>\n",
       "    </tr>\n",
       "    <tr>\n",
       "      <th>5</th>\n",
       "      <td>On-The-Go 1</td>\n",
       "    </tr>\n",
       "    <tr>\n",
       "      <th>6</th>\n",
       "      <td>Classical</td>\n",
       "    </tr>\n",
       "    <tr>\n",
       "      <th>7</th>\n",
       "      <td>Classical 101 - The Basics</td>\n",
       "    </tr>\n",
       "    <tr>\n",
       "      <th>8</th>\n",
       "      <td>Classical 101 - Next Steps</td>\n",
       "    </tr>\n",
       "    <tr>\n",
       "      <th>9</th>\n",
       "      <td>Classical 101 - Deep Cuts</td>\n",
       "    </tr>\n",
       "    <tr>\n",
       "      <th>10</th>\n",
       "      <td>TV Shows</td>\n",
       "    </tr>\n",
       "    <tr>\n",
       "      <th>11</th>\n",
       "      <td>Music Videos</td>\n",
       "    </tr>\n",
       "  </tbody>\n",
       "</table>\n",
       "</div>"
      ],
      "text/plain": [
       "                  playlistname\n",
       "0                        Music\n",
       "1          Heavy Metal Classic\n",
       "2                   90’s Music\n",
       "3                       Grunge\n",
       "4              Brazilian Music\n",
       "5                  On-The-Go 1\n",
       "6                    Classical\n",
       "7   Classical 101 - The Basics\n",
       "8   Classical 101 - Next Steps\n",
       "9    Classical 101 - Deep Cuts\n",
       "10                    TV Shows\n",
       "11                Music Videos"
      ]
     },
     "execution_count": 82,
     "metadata": {},
     "output_type": "execute_result"
    }
   ],
   "source": [
    "df_playlist"
   ]
  },
  {
   "cell_type": "markdown",
   "metadata": {},
   "source": [
    "Let's add `playlistid` column to this dataframe. "
   ]
  },
  {
   "cell_type": "code",
   "execution_count": 83,
   "metadata": {},
   "outputs": [],
   "source": [
    "df_playlist['playlistid'] = range(1, df_playlist.shape[0] + 1)"
   ]
  },
  {
   "cell_type": "code",
   "execution_count": 84,
   "metadata": {},
   "outputs": [
    {
     "data": {
      "text/html": [
       "<div>\n",
       "<style scoped>\n",
       "    .dataframe tbody tr th:only-of-type {\n",
       "        vertical-align: middle;\n",
       "    }\n",
       "\n",
       "    .dataframe tbody tr th {\n",
       "        vertical-align: top;\n",
       "    }\n",
       "\n",
       "    .dataframe thead th {\n",
       "        text-align: right;\n",
       "    }\n",
       "</style>\n",
       "<table border=\"1\" class=\"dataframe\">\n",
       "  <thead>\n",
       "    <tr style=\"text-align: right;\">\n",
       "      <th></th>\n",
       "      <th>playlistname</th>\n",
       "      <th>playlistid</th>\n",
       "    </tr>\n",
       "  </thead>\n",
       "  <tbody>\n",
       "    <tr>\n",
       "      <th>0</th>\n",
       "      <td>Music</td>\n",
       "      <td>1</td>\n",
       "    </tr>\n",
       "    <tr>\n",
       "      <th>1</th>\n",
       "      <td>Heavy Metal Classic</td>\n",
       "      <td>2</td>\n",
       "    </tr>\n",
       "    <tr>\n",
       "      <th>2</th>\n",
       "      <td>90’s Music</td>\n",
       "      <td>3</td>\n",
       "    </tr>\n",
       "    <tr>\n",
       "      <th>3</th>\n",
       "      <td>Grunge</td>\n",
       "      <td>4</td>\n",
       "    </tr>\n",
       "    <tr>\n",
       "      <th>4</th>\n",
       "      <td>Brazilian Music</td>\n",
       "      <td>5</td>\n",
       "    </tr>\n",
       "    <tr>\n",
       "      <th>5</th>\n",
       "      <td>On-The-Go 1</td>\n",
       "      <td>6</td>\n",
       "    </tr>\n",
       "    <tr>\n",
       "      <th>6</th>\n",
       "      <td>Classical</td>\n",
       "      <td>7</td>\n",
       "    </tr>\n",
       "    <tr>\n",
       "      <th>7</th>\n",
       "      <td>Classical 101 - The Basics</td>\n",
       "      <td>8</td>\n",
       "    </tr>\n",
       "    <tr>\n",
       "      <th>8</th>\n",
       "      <td>Classical 101 - Next Steps</td>\n",
       "      <td>9</td>\n",
       "    </tr>\n",
       "    <tr>\n",
       "      <th>9</th>\n",
       "      <td>Classical 101 - Deep Cuts</td>\n",
       "      <td>10</td>\n",
       "    </tr>\n",
       "    <tr>\n",
       "      <th>10</th>\n",
       "      <td>TV Shows</td>\n",
       "      <td>11</td>\n",
       "    </tr>\n",
       "    <tr>\n",
       "      <th>11</th>\n",
       "      <td>Music Videos</td>\n",
       "      <td>12</td>\n",
       "    </tr>\n",
       "  </tbody>\n",
       "</table>\n",
       "</div>"
      ],
      "text/plain": [
       "                  playlistname  playlistid\n",
       "0                        Music           1\n",
       "1          Heavy Metal Classic           2\n",
       "2                   90’s Music           3\n",
       "3                       Grunge           4\n",
       "4              Brazilian Music           5\n",
       "5                  On-The-Go 1           6\n",
       "6                    Classical           7\n",
       "7   Classical 101 - The Basics           8\n",
       "8   Classical 101 - Next Steps           9\n",
       "9    Classical 101 - Deep Cuts          10\n",
       "10                    TV Shows          11\n",
       "11                Music Videos          12"
      ]
     },
     "execution_count": 84,
     "metadata": {},
     "output_type": "execute_result"
    }
   ],
   "source": [
    "df_playlist"
   ]
  },
  {
   "cell_type": "markdown",
   "metadata": {},
   "source": [
    "This `df_playlist` dataframe will be loaded to the `Playlist` table. "
   ]
  },
  {
   "cell_type": "markdown",
   "metadata": {},
   "source": [
    "#### 4.1.3 Curating data for the PlaylistTrack table (Done)\n",
    "\n",
    "This `df_music` dataframe also contains the data for the `PlaylistTrack` bridging table. "
   ]
  },
  {
   "cell_type": "code",
   "execution_count": 85,
   "metadata": {},
   "outputs": [],
   "source": [
    "df_playlisttrack = df_music[['trackid', 'playlist']].copy()"
   ]
  },
  {
   "cell_type": "code",
   "execution_count": 86,
   "metadata": {},
   "outputs": [
    {
     "data": {
      "text/html": [
       "<div>\n",
       "<style scoped>\n",
       "    .dataframe tbody tr th:only-of-type {\n",
       "        vertical-align: middle;\n",
       "    }\n",
       "\n",
       "    .dataframe tbody tr th {\n",
       "        vertical-align: top;\n",
       "    }\n",
       "\n",
       "    .dataframe thead th {\n",
       "        text-align: right;\n",
       "    }\n",
       "</style>\n",
       "<table border=\"1\" class=\"dataframe\">\n",
       "  <thead>\n",
       "    <tr style=\"text-align: right;\">\n",
       "      <th></th>\n",
       "      <th>trackid</th>\n",
       "      <th>playlist</th>\n",
       "    </tr>\n",
       "  </thead>\n",
       "  <tbody>\n",
       "    <tr>\n",
       "      <th>0</th>\n",
       "      <td>1</td>\n",
       "      <td>Music</td>\n",
       "    </tr>\n",
       "    <tr>\n",
       "      <th>1</th>\n",
       "      <td>1</td>\n",
       "      <td>Heavy Metal Classic</td>\n",
       "    </tr>\n",
       "    <tr>\n",
       "      <th>2</th>\n",
       "      <td>6</td>\n",
       "      <td>Music</td>\n",
       "    </tr>\n",
       "    <tr>\n",
       "      <th>3</th>\n",
       "      <td>7</td>\n",
       "      <td>Music</td>\n",
       "    </tr>\n",
       "    <tr>\n",
       "      <th>4</th>\n",
       "      <td>8</td>\n",
       "      <td>Music</td>\n",
       "    </tr>\n",
       "  </tbody>\n",
       "</table>\n",
       "</div>"
      ],
      "text/plain": [
       "   trackid             playlist\n",
       "0        1                Music\n",
       "1        1  Heavy Metal Classic\n",
       "2        6                Music\n",
       "3        7                Music\n",
       "4        8                Music"
      ]
     },
     "execution_count": 86,
     "metadata": {},
     "output_type": "execute_result"
    }
   ],
   "source": [
    "df_playlisttrack.head()"
   ]
  },
  {
   "cell_type": "markdown",
   "metadata": {},
   "source": [
    "Since we kept the playlist names in the `Playlist` table, we need to replace these playlist names with their corresponding playlist ids. This can done various ways. Here we will apply pandas `map` function. We will essentially supply a mapping of `playlistname --> playlistid`. "
   ]
  },
  {
   "cell_type": "code",
   "execution_count": 87,
   "metadata": {},
   "outputs": [],
   "source": [
    "map_name_to_id = dict( zip(df_playlist['playlistname'], df_playlist['playlistid'])\n",
    ")"
   ]
  },
  {
   "cell_type": "code",
   "execution_count": 88,
   "metadata": {},
   "outputs": [
    {
     "data": {
      "text/plain": [
       "{'Music': 1,\n",
       " 'Heavy Metal Classic': 2,\n",
       " '90’s Music': 3,\n",
       " 'Grunge': 4,\n",
       " 'Brazilian Music': 5,\n",
       " 'On-The-Go 1': 6,\n",
       " 'Classical': 7,\n",
       " 'Classical 101 - The Basics': 8,\n",
       " 'Classical 101 - Next Steps': 9,\n",
       " 'Classical 101 - Deep Cuts': 10,\n",
       " 'TV Shows': 11,\n",
       " 'Music Videos': 12}"
      ]
     },
     "execution_count": 88,
     "metadata": {},
     "output_type": "execute_result"
    }
   ],
   "source": [
    "map_name_to_id"
   ]
  },
  {
   "cell_type": "code",
   "execution_count": 89,
   "metadata": {},
   "outputs": [],
   "source": [
    "# Remap the values of the dataframe\n",
    "df_playlisttrack['playlist'] = df_playlisttrack['playlist'].map(map_name_to_id)"
   ]
  },
  {
   "cell_type": "code",
   "execution_count": 90,
   "metadata": {},
   "outputs": [
    {
     "data": {
      "text/html": [
       "<div>\n",
       "<style scoped>\n",
       "    .dataframe tbody tr th:only-of-type {\n",
       "        vertical-align: middle;\n",
       "    }\n",
       "\n",
       "    .dataframe tbody tr th {\n",
       "        vertical-align: top;\n",
       "    }\n",
       "\n",
       "    .dataframe thead th {\n",
       "        text-align: right;\n",
       "    }\n",
       "</style>\n",
       "<table border=\"1\" class=\"dataframe\">\n",
       "  <thead>\n",
       "    <tr style=\"text-align: right;\">\n",
       "      <th></th>\n",
       "      <th>trackid</th>\n",
       "      <th>playlist</th>\n",
       "    </tr>\n",
       "  </thead>\n",
       "  <tbody>\n",
       "    <tr>\n",
       "      <th>0</th>\n",
       "      <td>1</td>\n",
       "      <td>1</td>\n",
       "    </tr>\n",
       "    <tr>\n",
       "      <th>1</th>\n",
       "      <td>1</td>\n",
       "      <td>2</td>\n",
       "    </tr>\n",
       "    <tr>\n",
       "      <th>2</th>\n",
       "      <td>6</td>\n",
       "      <td>1</td>\n",
       "    </tr>\n",
       "    <tr>\n",
       "      <th>3</th>\n",
       "      <td>7</td>\n",
       "      <td>1</td>\n",
       "    </tr>\n",
       "    <tr>\n",
       "      <th>4</th>\n",
       "      <td>8</td>\n",
       "      <td>1</td>\n",
       "    </tr>\n",
       "  </tbody>\n",
       "</table>\n",
       "</div>"
      ],
      "text/plain": [
       "   trackid  playlist\n",
       "0        1         1\n",
       "1        1         2\n",
       "2        6         1\n",
       "3        7         1\n",
       "4        8         1"
      ]
     },
     "execution_count": 90,
     "metadata": {},
     "output_type": "execute_result"
    }
   ],
   "source": [
    "df_playlisttrack.head()"
   ]
  },
  {
   "cell_type": "markdown",
   "metadata": {},
   "source": [
    "To match with given attribute names in the `PlaylistTrack` tabke, we need to rename the column `playlist` as `playlistid` in this dataframe. "
   ]
  },
  {
   "cell_type": "code",
   "execution_count": 91,
   "metadata": {},
   "outputs": [],
   "source": [
    "df_playlisttrack = df_playlisttrack.rename(columns={'playlist': 'playlistid'})"
   ]
  },
  {
   "cell_type": "code",
   "execution_count": 92,
   "metadata": {},
   "outputs": [
    {
     "data": {
      "text/html": [
       "<div>\n",
       "<style scoped>\n",
       "    .dataframe tbody tr th:only-of-type {\n",
       "        vertical-align: middle;\n",
       "    }\n",
       "\n",
       "    .dataframe tbody tr th {\n",
       "        vertical-align: top;\n",
       "    }\n",
       "\n",
       "    .dataframe thead th {\n",
       "        text-align: right;\n",
       "    }\n",
       "</style>\n",
       "<table border=\"1\" class=\"dataframe\">\n",
       "  <thead>\n",
       "    <tr style=\"text-align: right;\">\n",
       "      <th></th>\n",
       "      <th>trackid</th>\n",
       "      <th>playlistid</th>\n",
       "    </tr>\n",
       "  </thead>\n",
       "  <tbody>\n",
       "    <tr>\n",
       "      <th>0</th>\n",
       "      <td>1</td>\n",
       "      <td>1</td>\n",
       "    </tr>\n",
       "    <tr>\n",
       "      <th>1</th>\n",
       "      <td>1</td>\n",
       "      <td>2</td>\n",
       "    </tr>\n",
       "    <tr>\n",
       "      <th>2</th>\n",
       "      <td>6</td>\n",
       "      <td>1</td>\n",
       "    </tr>\n",
       "    <tr>\n",
       "      <th>3</th>\n",
       "      <td>7</td>\n",
       "      <td>1</td>\n",
       "    </tr>\n",
       "    <tr>\n",
       "      <th>4</th>\n",
       "      <td>8</td>\n",
       "      <td>1</td>\n",
       "    </tr>\n",
       "  </tbody>\n",
       "</table>\n",
       "</div>"
      ],
      "text/plain": [
       "   trackid  playlistid\n",
       "0        1           1\n",
       "1        1           2\n",
       "2        6           1\n",
       "3        7           1\n",
       "4        8           1"
      ]
     },
     "execution_count": 92,
     "metadata": {},
     "output_type": "execute_result"
    }
   ],
   "source": [
    "df_playlisttrack.head()"
   ]
  },
  {
   "cell_type": "markdown",
   "metadata": {},
   "source": [
    "Now, this `df_playlisttrack` dataframe can be loaded to the `PlaylistTrack` table in the database."
   ]
  },
  {
   "cell_type": "code",
   "execution_count": 93,
   "metadata": {},
   "outputs": [],
   "source": [
    "df_customer = pd.read_csv(\"play_list_track_customers.csv\")"
   ]
  },
  {
   "cell_type": "markdown",
   "metadata": {},
   "source": [
    "### Task 4.2 Load `play_list_track_customers.csv` (Done)"
   ]
  },
  {
   "cell_type": "markdown",
   "metadata": {},
   "source": [
    "Let's inspect the first 5 rows"
   ]
  },
  {
   "cell_type": "code",
   "execution_count": 94,
   "metadata": {},
   "outputs": [
    {
     "data": {
      "text/html": [
       "<div>\n",
       "<style scoped>\n",
       "    .dataframe tbody tr th:only-of-type {\n",
       "        vertical-align: middle;\n",
       "    }\n",
       "\n",
       "    .dataframe tbody tr th {\n",
       "        vertical-align: top;\n",
       "    }\n",
       "\n",
       "    .dataframe thead th {\n",
       "        text-align: right;\n",
       "    }\n",
       "</style>\n",
       "<table border=\"1\" class=\"dataframe\">\n",
       "  <thead>\n",
       "    <tr style=\"text-align: right;\">\n",
       "      <th></th>\n",
       "      <th>CustomerId</th>\n",
       "      <th>FirstName</th>\n",
       "      <th>LastName</th>\n",
       "      <th>Company</th>\n",
       "      <th>Address</th>\n",
       "      <th>City</th>\n",
       "      <th>State</th>\n",
       "      <th>Country</th>\n",
       "      <th>PostalCode</th>\n",
       "      <th>Phone</th>\n",
       "      <th>Fax</th>\n",
       "      <th>Email</th>\n",
       "    </tr>\n",
       "  </thead>\n",
       "  <tbody>\n",
       "    <tr>\n",
       "      <th>0</th>\n",
       "      <td>1</td>\n",
       "      <td>Luís</td>\n",
       "      <td>Gonçalves</td>\n",
       "      <td>Embraer - Empresa Brasileira de Aeronáutica S.A.</td>\n",
       "      <td>Av. Brigadeiro Faria Lima, 2170</td>\n",
       "      <td>São José dos Campos</td>\n",
       "      <td>SP</td>\n",
       "      <td>Brazil</td>\n",
       "      <td>12227-000</td>\n",
       "      <td>+55 (12) 3923-5555</td>\n",
       "      <td>+55 (12) 3923-5566</td>\n",
       "      <td>luisg@embraer.com.br</td>\n",
       "    </tr>\n",
       "    <tr>\n",
       "      <th>1</th>\n",
       "      <td>2</td>\n",
       "      <td>Leonie</td>\n",
       "      <td>Köhler</td>\n",
       "      <td>NaN</td>\n",
       "      <td>Theodor-Heuss-Straße 34</td>\n",
       "      <td>Stuttgart</td>\n",
       "      <td>NaN</td>\n",
       "      <td>Germany</td>\n",
       "      <td>70174</td>\n",
       "      <td>+49 0711 2842222</td>\n",
       "      <td>NaN</td>\n",
       "      <td>leonekohler@surfeu.de</td>\n",
       "    </tr>\n",
       "    <tr>\n",
       "      <th>2</th>\n",
       "      <td>3</td>\n",
       "      <td>François</td>\n",
       "      <td>Tremblay</td>\n",
       "      <td>NaN</td>\n",
       "      <td>1498 rue Bélanger</td>\n",
       "      <td>Montréal</td>\n",
       "      <td>QC</td>\n",
       "      <td>Canada</td>\n",
       "      <td>H2G 1A7</td>\n",
       "      <td>+1 (514) 721-4711</td>\n",
       "      <td>NaN</td>\n",
       "      <td>ftremblay@gmail.com</td>\n",
       "    </tr>\n",
       "    <tr>\n",
       "      <th>3</th>\n",
       "      <td>4</td>\n",
       "      <td>Bjørn</td>\n",
       "      <td>Hansen</td>\n",
       "      <td>NaN</td>\n",
       "      <td>Ullevålsveien 14</td>\n",
       "      <td>Oslo</td>\n",
       "      <td>NaN</td>\n",
       "      <td>Norway</td>\n",
       "      <td>171</td>\n",
       "      <td>+47 22 44 22 22</td>\n",
       "      <td>NaN</td>\n",
       "      <td>bjorn.hansen@yahoo.no</td>\n",
       "    </tr>\n",
       "    <tr>\n",
       "      <th>4</th>\n",
       "      <td>5</td>\n",
       "      <td>František</td>\n",
       "      <td>Wichterlová</td>\n",
       "      <td>JetBrains s.r.o.</td>\n",
       "      <td>Klanova 9/506</td>\n",
       "      <td>Prague</td>\n",
       "      <td>NaN</td>\n",
       "      <td>Czech Republic</td>\n",
       "      <td>14700</td>\n",
       "      <td>+420 2 4172 5555</td>\n",
       "      <td>+420 2 4172 5555</td>\n",
       "      <td>frantisekw@jetbrains.com</td>\n",
       "    </tr>\n",
       "  </tbody>\n",
       "</table>\n",
       "</div>"
      ],
      "text/plain": [
       "   CustomerId  FirstName     LastName  \\\n",
       "0           1       Luís    Gonçalves   \n",
       "1           2     Leonie       Köhler   \n",
       "2           3   François     Tremblay   \n",
       "3           4      Bjørn       Hansen   \n",
       "4           5  František  Wichterlová   \n",
       "\n",
       "                                            Company  \\\n",
       "0  Embraer - Empresa Brasileira de Aeronáutica S.A.   \n",
       "1                                               NaN   \n",
       "2                                               NaN   \n",
       "3                                               NaN   \n",
       "4                                  JetBrains s.r.o.   \n",
       "\n",
       "                           Address                 City State         Country  \\\n",
       "0  Av. Brigadeiro Faria Lima, 2170  São José dos Campos    SP          Brazil   \n",
       "1          Theodor-Heuss-Straße 34            Stuttgart   NaN         Germany   \n",
       "2                1498 rue Bélanger             Montréal    QC          Canada   \n",
       "3                 Ullevålsveien 14                 Oslo   NaN          Norway   \n",
       "4                    Klanova 9/506               Prague   NaN  Czech Republic   \n",
       "\n",
       "  PostalCode               Phone                 Fax                     Email  \n",
       "0  12227-000  +55 (12) 3923-5555  +55 (12) 3923-5566      luisg@embraer.com.br  \n",
       "1      70174    +49 0711 2842222                 NaN     leonekohler@surfeu.de  \n",
       "2    H2G 1A7   +1 (514) 721-4711                 NaN       ftremblay@gmail.com  \n",
       "3        171     +47 22 44 22 22                 NaN     bjorn.hansen@yahoo.no  \n",
       "4      14700    +420 2 4172 5555    +420 2 4172 5555  frantisekw@jetbrains.com  "
      ]
     },
     "execution_count": 94,
     "metadata": {},
     "output_type": "execute_result"
    }
   ],
   "source": [
    "df_customer.head()"
   ]
  },
  {
   "cell_type": "code",
   "execution_count": 95,
   "metadata": {},
   "outputs": [
    {
     "data": {
      "text/plain": [
       "(59, 12)"
      ]
     },
     "execution_count": 95,
     "metadata": {},
     "output_type": "execute_result"
    }
   ],
   "source": [
    "df_customer.shape"
   ]
  },
  {
   "cell_type": "markdown",
   "metadata": {},
   "source": [
    "\n",
    "This `df_customer` dataframe has the necessary attributes for the customer relation (see the ERD). This dataframe shouldn't have any duplicates. However, we can invoke `drop_duplicates` just to be cautious. "
   ]
  },
  {
   "cell_type": "code",
   "execution_count": 96,
   "metadata": {},
   "outputs": [],
   "source": [
    "df_customer.drop_duplicates(inplace=True)"
   ]
  },
  {
   "cell_type": "markdown",
   "metadata": {},
   "source": [
    "This `df_customer` dataframe is ready to loaded to the customer table. "
   ]
  },
  {
   "cell_type": "markdown",
   "metadata": {},
   "source": [
    "### Task 4.3 Load `play_list_track_buy.csv` (2 points)"
   ]
  },
  {
   "cell_type": "code",
   "execution_count": 97,
   "metadata": {},
   "outputs": [],
   "source": [
    "df_purchase_customer = pd.read_csv(\"play_list_track_buy.csv\")"
   ]
  },
  {
   "cell_type": "code",
   "execution_count": 98,
   "metadata": {},
   "outputs": [
    {
     "data": {
      "text/html": [
       "<div>\n",
       "<style scoped>\n",
       "    .dataframe tbody tr th:only-of-type {\n",
       "        vertical-align: middle;\n",
       "    }\n",
       "\n",
       "    .dataframe tbody tr th {\n",
       "        vertical-align: top;\n",
       "    }\n",
       "\n",
       "    .dataframe thead th {\n",
       "        text-align: right;\n",
       "    }\n",
       "</style>\n",
       "<table border=\"1\" class=\"dataframe\">\n",
       "  <thead>\n",
       "    <tr style=\"text-align: right;\">\n",
       "      <th></th>\n",
       "      <th>InvoiceId</th>\n",
       "      <th>trackid</th>\n",
       "      <th>CustomerId</th>\n",
       "      <th>UnitPrice</th>\n",
       "      <th>BillingAddress</th>\n",
       "      <th>BillingCity</th>\n",
       "    </tr>\n",
       "  </thead>\n",
       "  <tbody>\n",
       "    <tr>\n",
       "      <th>0</th>\n",
       "      <td>1</td>\n",
       "      <td>2</td>\n",
       "      <td>2</td>\n",
       "      <td>0.99</td>\n",
       "      <td>Theodor-Heuss-Straße 34</td>\n",
       "      <td>Stuttgart</td>\n",
       "    </tr>\n",
       "    <tr>\n",
       "      <th>1</th>\n",
       "      <td>1</td>\n",
       "      <td>4</td>\n",
       "      <td>2</td>\n",
       "      <td>0.99</td>\n",
       "      <td>Theodor-Heuss-Straße 34</td>\n",
       "      <td>Stuttgart</td>\n",
       "    </tr>\n",
       "    <tr>\n",
       "      <th>2</th>\n",
       "      <td>2</td>\n",
       "      <td>6</td>\n",
       "      <td>4</td>\n",
       "      <td>0.99</td>\n",
       "      <td>Ullevålsveien 14</td>\n",
       "      <td>Oslo</td>\n",
       "    </tr>\n",
       "    <tr>\n",
       "      <th>3</th>\n",
       "      <td>2</td>\n",
       "      <td>8</td>\n",
       "      <td>4</td>\n",
       "      <td>0.99</td>\n",
       "      <td>Ullevålsveien 14</td>\n",
       "      <td>Oslo</td>\n",
       "    </tr>\n",
       "    <tr>\n",
       "      <th>4</th>\n",
       "      <td>2</td>\n",
       "      <td>10</td>\n",
       "      <td>4</td>\n",
       "      <td>0.99</td>\n",
       "      <td>Ullevålsveien 14</td>\n",
       "      <td>Oslo</td>\n",
       "    </tr>\n",
       "  </tbody>\n",
       "</table>\n",
       "</div>"
      ],
      "text/plain": [
       "   InvoiceId  trackid  CustomerId  UnitPrice           BillingAddress  \\\n",
       "0          1        2           2       0.99  Theodor-Heuss-Straße 34   \n",
       "1          1        4           2       0.99  Theodor-Heuss-Straße 34   \n",
       "2          2        6           4       0.99         Ullevålsveien 14   \n",
       "3          2        8           4       0.99         Ullevålsveien 14   \n",
       "4          2       10           4       0.99         Ullevålsveien 14   \n",
       "\n",
       "  BillingCity  \n",
       "0   Stuttgart  \n",
       "1   Stuttgart  \n",
       "2        Oslo  \n",
       "3        Oslo  \n",
       "4        Oslo  "
      ]
     },
     "execution_count": 98,
     "metadata": {},
     "output_type": "execute_result"
    }
   ],
   "source": [
    "df_purchase_customer.head()"
   ]
  },
  {
   "cell_type": "markdown",
   "metadata": {},
   "source": [
    "Inspect the first five rows. "
   ]
  },
  {
   "cell_type": "markdown",
   "metadata": {},
   "source": [
    "This dataframe contains the necessary attributes for purchase table. "
   ]
  },
  {
   "cell_type": "code",
   "execution_count": 99,
   "metadata": {},
   "outputs": [],
   "source": [
    "df_purchase = df_purchase_customer[['InvoiceId','trackid','CustomerId','UnitPrice']].copy()"
   ]
  },
  {
   "cell_type": "code",
   "execution_count": 100,
   "metadata": {},
   "outputs": [
    {
     "data": {
      "text/plain": [
       "(2240, 4)"
      ]
     },
     "execution_count": 100,
     "metadata": {},
     "output_type": "execute_result"
    }
   ],
   "source": [
    "df_purchase.shape"
   ]
  },
  {
   "cell_type": "code",
   "execution_count": 101,
   "metadata": {},
   "outputs": [
    {
     "data": {
      "text/html": [
       "<div>\n",
       "<style scoped>\n",
       "    .dataframe tbody tr th:only-of-type {\n",
       "        vertical-align: middle;\n",
       "    }\n",
       "\n",
       "    .dataframe tbody tr th {\n",
       "        vertical-align: top;\n",
       "    }\n",
       "\n",
       "    .dataframe thead th {\n",
       "        text-align: right;\n",
       "    }\n",
       "</style>\n",
       "<table border=\"1\" class=\"dataframe\">\n",
       "  <thead>\n",
       "    <tr style=\"text-align: right;\">\n",
       "      <th></th>\n",
       "      <th>InvoiceId</th>\n",
       "      <th>trackid</th>\n",
       "      <th>CustomerId</th>\n",
       "      <th>UnitPrice</th>\n",
       "    </tr>\n",
       "  </thead>\n",
       "  <tbody>\n",
       "    <tr>\n",
       "      <th>0</th>\n",
       "      <td>1</td>\n",
       "      <td>2</td>\n",
       "      <td>2</td>\n",
       "      <td>0.99</td>\n",
       "    </tr>\n",
       "    <tr>\n",
       "      <th>1</th>\n",
       "      <td>1</td>\n",
       "      <td>4</td>\n",
       "      <td>2</td>\n",
       "      <td>0.99</td>\n",
       "    </tr>\n",
       "    <tr>\n",
       "      <th>2</th>\n",
       "      <td>2</td>\n",
       "      <td>6</td>\n",
       "      <td>4</td>\n",
       "      <td>0.99</td>\n",
       "    </tr>\n",
       "    <tr>\n",
       "      <th>3</th>\n",
       "      <td>2</td>\n",
       "      <td>8</td>\n",
       "      <td>4</td>\n",
       "      <td>0.99</td>\n",
       "    </tr>\n",
       "    <tr>\n",
       "      <th>4</th>\n",
       "      <td>2</td>\n",
       "      <td>10</td>\n",
       "      <td>4</td>\n",
       "      <td>0.99</td>\n",
       "    </tr>\n",
       "  </tbody>\n",
       "</table>\n",
       "</div>"
      ],
      "text/plain": [
       "   InvoiceId  trackid  CustomerId  UnitPrice\n",
       "0          1        2           2       0.99\n",
       "1          1        4           2       0.99\n",
       "2          2        6           4       0.99\n",
       "3          2        8           4       0.99\n",
       "4          2       10           4       0.99"
      ]
     },
     "execution_count": 101,
     "metadata": {},
     "output_type": "execute_result"
    }
   ],
   "source": [
    "df_purchase.head()"
   ]
  },
  {
   "cell_type": "code",
   "execution_count": null,
   "metadata": {},
   "outputs": [],
   "source": []
  },
  {
   "cell_type": "markdown",
   "metadata": {},
   "source": [
    "## Task 5: Load the data from the files into the database. (4 points)\n",
    "\n",
    "Load all of the tables. First we will load all the kernels (i.e independent tables, which doesn't have any foreign keys). \n",
    "\n",
    "There are various ways to load data from a dataframe to a table in a database. E.g., we could iterate a dataframe row-wise, create an insert statment for each row, and insert the row to the table. However, there is a one-liner (e.g., `to_sql` function) to insert the data from a dataframe to a database. This latter approach is convenient and concise. \n"
   ]
  },
  {
   "cell_type": "markdown",
   "metadata": {},
   "source": [
    "### 5.1 Load the Track table (Done)"
   ]
  },
  {
   "cell_type": "code",
   "execution_count": 102,
   "metadata": {},
   "outputs": [
    {
     "data": {
      "text/plain": [
       "3503"
      ]
     },
     "execution_count": 102,
     "metadata": {},
     "output_type": "execute_result"
    }
   ],
   "source": [
    "df_track.to_sql(name='Track', con=engine, if_exists='append',index=False)"
   ]
  },
  {
   "cell_type": "markdown",
   "metadata": {},
   "source": [
    "### 5.2 Load the Cusomter table"
   ]
  },
  {
   "cell_type": "code",
   "execution_count": 103,
   "metadata": {},
   "outputs": [
    {
     "data": {
      "text/plain": [
       "59"
      ]
     },
     "execution_count": 103,
     "metadata": {},
     "output_type": "execute_result"
    }
   ],
   "source": [
    "df_customer.to_sql(name='Customer', con=engine, if_exists='append', index=False)"
   ]
  },
  {
   "cell_type": "markdown",
   "metadata": {},
   "source": [
    "### 5.3 Load the Playlist table"
   ]
  },
  {
   "cell_type": "code",
   "execution_count": 104,
   "metadata": {},
   "outputs": [
    {
     "data": {
      "text/plain": [
       "12"
      ]
     },
     "execution_count": 104,
     "metadata": {},
     "output_type": "execute_result"
    }
   ],
   "source": [
    "df_playlist.to_sql(name='Playlist', con=engine, if_exists='append', index=False)"
   ]
  },
  {
   "cell_type": "markdown",
   "metadata": {},
   "source": [
    "### 5.4 Load the Purchase table"
   ]
  },
  {
   "cell_type": "code",
   "execution_count": 105,
   "metadata": {},
   "outputs": [
    {
     "data": {
      "text/plain": [
       "2240"
      ]
     },
     "execution_count": 105,
     "metadata": {},
     "output_type": "execute_result"
    }
   ],
   "source": [
    "df_purchase.to_sql(name='Purchase', con=engine, if_exists='append', index=False)"
   ]
  },
  {
   "cell_type": "markdown",
   "metadata": {},
   "source": [
    "### 5.5 Load the PlayListTrack table"
   ]
  },
  {
   "cell_type": "code",
   "execution_count": 106,
   "metadata": {},
   "outputs": [
    {
     "name": "stderr",
     "output_type": "stream",
     "text": [
      "C:\\Users\\sasan\\AppData\\Local\\Temp\\ipykernel_16676\\388602005.py:1: UserWarning: The provided table name 'PlayListTrack' is not found exactly as such in the database after writing the table, possibly due to case sensitivity issues. Consider using lower case table names.\n",
      "  df_playlisttrack.to_sql(name='PlayListTrack', con=engine, if_exists='append', index=False)\n"
     ]
    },
    {
     "data": {
      "text/plain": [
       "5212"
      ]
     },
     "execution_count": 106,
     "metadata": {},
     "output_type": "execute_result"
    }
   ],
   "source": [
    "df_playlisttrack.to_sql(name='PlayListTrack', con=engine, if_exists='append', index=False)"
   ]
  },
  {
   "cell_type": "markdown",
   "metadata": {},
   "source": [
    "## Task 6: Write count statements to show the data has been loaded. (2 point)\n",
    "Write SQL to show the `COUNT(*)` from each table loaded."
   ]
  },
  {
   "cell_type": "markdown",
   "metadata": {},
   "source": [
    "### 6.1 Show to number of entities in the Track table"
   ]
  },
  {
   "cell_type": "code",
   "execution_count": 107,
   "metadata": {},
   "outputs": [
    {
     "data": {
      "text/html": [
       "<span style=\"None\">Running query in &#x27;sqlite:///music_store.db&#x27;</span>"
      ],
      "text/plain": [
       "Running query in 'sqlite:///music_store.db'"
      ]
     },
     "metadata": {},
     "output_type": "display_data"
    },
    {
     "data": {
      "text/html": [
       "<table>\n",
       "    <thead>\n",
       "        <tr>\n",
       "            <th>COUNT(*)</th>\n",
       "        </tr>\n",
       "    </thead>\n",
       "    <tbody>\n",
       "        <tr>\n",
       "            <td>3503</td>\n",
       "        </tr>\n",
       "    </tbody>\n",
       "</table>"
      ],
      "text/plain": [
       "+----------+\n",
       "| COUNT(*) |\n",
       "+----------+\n",
       "|   3503   |\n",
       "+----------+"
      ]
     },
     "execution_count": 107,
     "metadata": {},
     "output_type": "execute_result"
    }
   ],
   "source": [
    "%%sql \n",
    "\n",
    "SELECT COUNT(*) \n",
    "FROM Track;"
   ]
  },
  {
   "cell_type": "markdown",
   "metadata": {},
   "source": [
    "### 6.2 Show to number of entities in the Customer table"
   ]
  },
  {
   "cell_type": "code",
   "execution_count": 108,
   "metadata": {},
   "outputs": [
    {
     "data": {
      "text/html": [
       "<span style=\"None\">Running query in &#x27;sqlite:///music_store.db&#x27;</span>"
      ],
      "text/plain": [
       "Running query in 'sqlite:///music_store.db'"
      ]
     },
     "metadata": {},
     "output_type": "display_data"
    },
    {
     "data": {
      "text/html": [
       "<table>\n",
       "    <thead>\n",
       "        <tr>\n",
       "            <th>COUNT(*)</th>\n",
       "        </tr>\n",
       "    </thead>\n",
       "    <tbody>\n",
       "        <tr>\n",
       "            <td>59</td>\n",
       "        </tr>\n",
       "    </tbody>\n",
       "</table>"
      ],
      "text/plain": [
       "+----------+\n",
       "| COUNT(*) |\n",
       "+----------+\n",
       "|    59    |\n",
       "+----------+"
      ]
     },
     "execution_count": 108,
     "metadata": {},
     "output_type": "execute_result"
    }
   ],
   "source": [
    "%%sql\n",
    "\n",
    "SELECT COUNT(*) \n",
    "FROM Customer;"
   ]
  },
  {
   "cell_type": "markdown",
   "metadata": {},
   "source": [
    "### 6.3 Show to number of entities in the Purchase table"
   ]
  },
  {
   "cell_type": "code",
   "execution_count": 109,
   "metadata": {},
   "outputs": [
    {
     "data": {
      "text/html": [
       "<span style=\"None\">Running query in &#x27;sqlite:///music_store.db&#x27;</span>"
      ],
      "text/plain": [
       "Running query in 'sqlite:///music_store.db'"
      ]
     },
     "metadata": {},
     "output_type": "display_data"
    },
    {
     "data": {
      "text/html": [
       "<table>\n",
       "    <thead>\n",
       "        <tr>\n",
       "            <th>COUNT(*)</th>\n",
       "        </tr>\n",
       "    </thead>\n",
       "    <tbody>\n",
       "        <tr>\n",
       "            <td>2240</td>\n",
       "        </tr>\n",
       "    </tbody>\n",
       "</table>"
      ],
      "text/plain": [
       "+----------+\n",
       "| COUNT(*) |\n",
       "+----------+\n",
       "|   2240   |\n",
       "+----------+"
      ]
     },
     "execution_count": 109,
     "metadata": {},
     "output_type": "execute_result"
    }
   ],
   "source": [
    "%%sql\n",
    "\n",
    "SELECT COUNT(*) \n",
    "FROM Purchase;"
   ]
  },
  {
   "cell_type": "markdown",
   "metadata": {},
   "source": [
    "### 6.4 Show to number of entities in the PlaylistTrack table"
   ]
  },
  {
   "cell_type": "code",
   "execution_count": 110,
   "metadata": {},
   "outputs": [
    {
     "data": {
      "text/html": [
       "<span style=\"None\">Running query in &#x27;sqlite:///music_store.db&#x27;</span>"
      ],
      "text/plain": [
       "Running query in 'sqlite:///music_store.db'"
      ]
     },
     "metadata": {},
     "output_type": "display_data"
    },
    {
     "data": {
      "text/html": [
       "<table>\n",
       "    <thead>\n",
       "        <tr>\n",
       "            <th>COUNT(*)</th>\n",
       "        </tr>\n",
       "    </thead>\n",
       "    <tbody>\n",
       "        <tr>\n",
       "            <td>5212</td>\n",
       "        </tr>\n",
       "    </tbody>\n",
       "</table>"
      ],
      "text/plain": [
       "+----------+\n",
       "| COUNT(*) |\n",
       "+----------+\n",
       "|   5212   |\n",
       "+----------+"
      ]
     },
     "execution_count": 110,
     "metadata": {},
     "output_type": "execute_result"
    }
   ],
   "source": [
    "%%sql\n",
    "\n",
    "SELECT COUNT(*) \n",
    "FROM PlayListTrack; "
   ]
  },
  {
   "cell_type": "markdown",
   "metadata": {},
   "source": [
    "### 6.5 Show to number of entities in the Playlist table"
   ]
  },
  {
   "cell_type": "code",
   "execution_count": 111,
   "metadata": {},
   "outputs": [
    {
     "data": {
      "text/html": [
       "<span style=\"None\">Running query in &#x27;sqlite:///music_store.db&#x27;</span>"
      ],
      "text/plain": [
       "Running query in 'sqlite:///music_store.db'"
      ]
     },
     "metadata": {},
     "output_type": "display_data"
    },
    {
     "data": {
      "text/html": [
       "<table>\n",
       "    <thead>\n",
       "        <tr>\n",
       "            <th>COUNT(*)</th>\n",
       "        </tr>\n",
       "    </thead>\n",
       "    <tbody>\n",
       "        <tr>\n",
       "            <td>12</td>\n",
       "        </tr>\n",
       "    </tbody>\n",
       "</table>"
      ],
      "text/plain": [
       "+----------+\n",
       "| COUNT(*) |\n",
       "+----------+\n",
       "|    12    |\n",
       "+----------+"
      ]
     },
     "execution_count": 111,
     "metadata": {},
     "output_type": "execute_result"
    }
   ],
   "source": [
    "%%sql\n",
    "\n",
    "SELECT COUNT(*) \n",
    "FROM Playlist; "
   ]
  },
  {
   "cell_type": "markdown",
   "metadata": {},
   "source": [
    "### Task 7: Write some basic queries for the data you have load. (6 points)\n",
    "Please state the question that your query is trying to answer as a comment at the top of the code box for that query.\n",
    "1. a single table query\n",
    "1. a query that joins two tables\n",
    "1. a query that preforms some aggerate function. "
   ]
  },
  {
   "cell_type": "markdown",
   "metadata": {},
   "source": [
    "### Q1: [State your question]"
   ]
  },
  {
   "cell_type": "raw",
   "metadata": {},
   "source": [
    "## Example\n",
    "## Each artist and thier average bytes per song"
   ]
  },
  {
   "cell_type": "code",
   "execution_count": null,
   "metadata": {},
   "outputs": [],
   "source": []
  },
  {
   "cell_type": "markdown",
   "metadata": {},
   "source": [
    "Write the query in the following cell "
   ]
  },
  {
   "cell_type": "code",
   "execution_count": 115,
   "metadata": {},
   "outputs": [
    {
     "data": {
      "text/html": [
       "<span style=\"None\">Running query in &#x27;sqlite:///music_store.db&#x27;</span>"
      ],
      "text/plain": [
       "Running query in 'sqlite:///music_store.db'"
      ]
     },
     "metadata": {},
     "output_type": "display_data"
    },
    {
     "data": {
      "text/html": [
       "<table>\n",
       "    <thead>\n",
       "        <tr>\n",
       "            <th>genre</th>\n",
       "            <th>avg_bytes</th>\n",
       "        </tr>\n",
       "    </thead>\n",
       "    <tbody>\n",
       "        <tr>\n",
       "            <td>Alternative</td>\n",
       "            <td>5883473.6</td>\n",
       "        </tr>\n",
       "        <tr>\n",
       "            <td>Alternative & Punk</td>\n",
       "            <td>7691002.942771085</td>\n",
       "        </tr>\n",
       "        <tr>\n",
       "            <td>Blues</td>\n",
       "            <td>8625575.629629629</td>\n",
       "        </tr>\n",
       "        <tr>\n",
       "            <td>Bossa Nova</td>\n",
       "            <td>7239057.0</td>\n",
       "        </tr>\n",
       "        <tr>\n",
       "            <td>Classical</td>\n",
       "            <td>5220906.513513514</td>\n",
       "        </tr>\n",
       "        <tr>\n",
       "            <td>Comedy</td>\n",
       "            <td>316904465.7647059</td>\n",
       "        </tr>\n",
       "        <tr>\n",
       "            <td>Drama</td>\n",
       "            <td>506946966.765625</td>\n",
       "        </tr>\n",
       "        <tr>\n",
       "            <td>Easy Listening</td>\n",
       "            <td>6160517.833333333</td>\n",
       "        </tr>\n",
       "        <tr>\n",
       "            <td>Electronica/Dance</td>\n",
       "            <td>10691926.466666667</td>\n",
       "        </tr>\n",
       "        <tr>\n",
       "            <td>Heavy Metal</td>\n",
       "            <td>9474752.142857144</td>\n",
       "        </tr>\n",
       "    </tbody>\n",
       "</table>\n",
       "<span style=\"font-style:italic;text-align:center;\">Truncated to <a href=\"https://jupysql.ploomber.io/en/latest/api/configuration.html#displaylimit\">displaylimit</a> of 10.</span>"
      ],
      "text/plain": [
       "+--------------------+--------------------+\n",
       "|       genre        |     avg_bytes      |\n",
       "+--------------------+--------------------+\n",
       "|    Alternative     |     5883473.6      |\n",
       "| Alternative & Punk | 7691002.942771085  |\n",
       "|       Blues        | 8625575.629629629  |\n",
       "|     Bossa Nova     |     7239057.0      |\n",
       "|     Classical      | 5220906.513513514  |\n",
       "|       Comedy       | 316904465.7647059  |\n",
       "|       Drama        |  506946966.765625  |\n",
       "|   Easy Listening   | 6160517.833333333  |\n",
       "| Electronica/Dance  | 10691926.466666667 |\n",
       "|    Heavy Metal     | 9474752.142857144  |\n",
       "+--------------------+--------------------+\n",
       "Truncated to displaylimit of 10."
      ]
     },
     "execution_count": 115,
     "metadata": {},
     "output_type": "execute_result"
    }
   ],
   "source": [
    "%%sql\n",
    "# Each artist of different genre(genre is capitalized) and their average bytes of their songs. Display genre and average bytes. \n",
    "SELECT DISTINCT genre, AVG(Bytes) as avg_bytes\n",
    "FROM Track \n",
    "GROUP BY genre"
   ]
  },
  {
   "cell_type": "markdown",
   "metadata": {
    "collapsed": true,
    "jupyter": {
     "outputs_hidden": true
    }
   },
   "source": [
    "### Q2: [State your question]"
   ]
  },
  {
   "cell_type": "code",
   "execution_count": null,
   "metadata": {},
   "outputs": [],
   "source": [
    "# Display the Album and customer information of Germany customers(country is capitalized). Sort the data with respect to  \n",
    "# ascending order"
   ]
  },
  {
   "cell_type": "code",
   "execution_count": 117,
   "metadata": {},
   "outputs": [
    {
     "data": {
      "text/html": [
       "<span style=\"None\">Running query in &#x27;sqlite:///music_store.db&#x27;</span>"
      ],
      "text/plain": [
       "Running query in 'sqlite:///music_store.db'"
      ]
     },
     "metadata": {},
     "output_type": "display_data"
    },
    {
     "data": {
      "text/html": [
       "<table>\n",
       "    <thead>\n",
       "        <tr>\n",
       "            <th>trackid</th>\n",
       "            <th>song</th>\n",
       "            <th>artist</th>\n",
       "            <th>album</th>\n",
       "            <th>media_type</th>\n",
       "            <th>genre</th>\n",
       "            <th>Bytes</th>\n",
       "            <th>customerid</th>\n",
       "            <th>firstname</th>\n",
       "            <th>lastname</th>\n",
       "            <th>company</th>\n",
       "            <th>address</th>\n",
       "            <th>city</th>\n",
       "            <th>state</th>\n",
       "            <th>country</th>\n",
       "            <th>postalcode</th>\n",
       "            <th>Phone</th>\n",
       "            <th>fax</th>\n",
       "            <th>email</th>\n",
       "        </tr>\n",
       "    </thead>\n",
       "    <tbody>\n",
       "        <tr>\n",
       "            <td>2</td>\n",
       "            <td>Balls to the Wall</td>\n",
       "            <td>Accept</td>\n",
       "            <td>Balls to the Wall</td>\n",
       "            <td>Protected AAC audio file</td>\n",
       "            <td>Rock</td>\n",
       "            <td>5510424</td>\n",
       "            <td>2</td>\n",
       "            <td>Leonie</td>\n",
       "            <td>Köhler</td>\n",
       "            <td>None</td>\n",
       "            <td>Theodor-Heuss-Straße 34</td>\n",
       "            <td>Stuttgart</td>\n",
       "            <td>None</td>\n",
       "            <td>Germany</td>\n",
       "            <td>70174</td>\n",
       "            <td>+49 0711 2842222</td>\n",
       "            <td>None</td>\n",
       "            <td>leonekohler@surfeu.de</td>\n",
       "        </tr>\n",
       "        <tr>\n",
       "            <td>930</td>\n",
       "            <td>She Loves Me Not</td>\n",
       "            <td>Faith No More</td>\n",
       "            <td>Album Of The Year</td>\n",
       "            <td>MPEG audio file</td>\n",
       "            <td>Alternative & Punk</td>\n",
       "            <td>6887544</td>\n",
       "            <td>36</td>\n",
       "            <td>Hannah</td>\n",
       "            <td>Schneider</td>\n",
       "            <td>None</td>\n",
       "            <td>Tauentzienstraße 8</td>\n",
       "            <td>Berlin</td>\n",
       "            <td>None</td>\n",
       "            <td>Germany</td>\n",
       "            <td>10789</td>\n",
       "            <td>+49 030 26550280</td>\n",
       "            <td>None</td>\n",
       "            <td>hannah.schneider@yahoo.de</td>\n",
       "        </tr>\n",
       "        <tr>\n",
       "            <td>230</td>\n",
       "            <td>Bye, Bye Brasil</td>\n",
       "            <td>Chico Buarque</td>\n",
       "            <td>Minha Historia</td>\n",
       "            <td>MPEG audio file</td>\n",
       "            <td>Latin</td>\n",
       "            <td>9499590</td>\n",
       "            <td>37</td>\n",
       "            <td>Fynn</td>\n",
       "            <td>Zimmermann</td>\n",
       "            <td>None</td>\n",
       "            <td>Berger Straße 10</td>\n",
       "            <td>Frankfurt</td>\n",
       "            <td>None</td>\n",
       "            <td>Germany</td>\n",
       "            <td>60316</td>\n",
       "            <td>+49 069 40598889</td>\n",
       "            <td>None</td>\n",
       "            <td>fzimmermann@yahoo.de</td>\n",
       "        </tr>\n",
       "        <tr>\n",
       "            <td>231</td>\n",
       "            <td>Atras Da Porta</td>\n",
       "            <td>Chico Buarque</td>\n",
       "            <td>Minha Historia</td>\n",
       "            <td>MPEG audio file</td>\n",
       "            <td>Latin</td>\n",
       "            <td>6132843</td>\n",
       "            <td>38</td>\n",
       "            <td>Niklas</td>\n",
       "            <td>Schröder</td>\n",
       "            <td>None</td>\n",
       "            <td>Barbarossastraße 19</td>\n",
       "            <td>Berlin</td>\n",
       "            <td>None</td>\n",
       "            <td>Germany</td>\n",
       "            <td>10779</td>\n",
       "            <td>+49 030 2141444</td>\n",
       "            <td>None</td>\n",
       "            <td>nschroder@surfeu.de</td>\n",
       "        </tr>\n",
       "    </tbody>\n",
       "</table>"
      ],
      "text/plain": [
       "+---------+-------------------+---------------+-------------------+--------------------------+--------------------+---------+------------+-----------+------------+---------+-------------------------+-----------+-------+---------+------------+------------------+------+---------------------------+\n",
       "| trackid |        song       |     artist    |       album       |        media_type        |       genre        |  Bytes  | customerid | firstname |  lastname  | company |         address         |    city   | state | country | postalcode |      Phone       | fax  |           email           |\n",
       "+---------+-------------------+---------------+-------------------+--------------------------+--------------------+---------+------------+-----------+------------+---------+-------------------------+-----------+-------+---------+------------+------------------+------+---------------------------+\n",
       "|    2    | Balls to the Wall |     Accept    | Balls to the Wall | Protected AAC audio file |        Rock        | 5510424 |     2      |   Leonie  |   Köhler   |   None  | Theodor-Heuss-Straße 34 | Stuttgart |  None | Germany |   70174    | +49 0711 2842222 | None |   leonekohler@surfeu.de   |\n",
       "|   930   |  She Loves Me Not | Faith No More | Album Of The Year |     MPEG audio file      | Alternative & Punk | 6887544 |     36     |   Hannah  | Schneider  |   None  |    Tauentzienstraße 8   |   Berlin  |  None | Germany |   10789    | +49 030 26550280 | None | hannah.schneider@yahoo.de |\n",
       "|   230   |  Bye, Bye Brasil  | Chico Buarque |   Minha Historia  |     MPEG audio file      |       Latin        | 9499590 |     37     |    Fynn   | Zimmermann |   None  |     Berger Straße 10    | Frankfurt |  None | Germany |   60316    | +49 069 40598889 | None |    fzimmermann@yahoo.de   |\n",
       "|   231   |   Atras Da Porta  | Chico Buarque |   Minha Historia  |     MPEG audio file      |       Latin        | 6132843 |     38     |   Niklas  |  Schröder  |   None  |   Barbarossastraße 19   |   Berlin  |  None | Germany |   10779    | +49 030 2141444  | None |    nschroder@surfeu.de    |\n",
       "+---------+-------------------+---------------+-------------------+--------------------------+--------------------+---------+------------+-----------+------------+---------+-------------------------+-----------+-------+---------+------------+------------------+------+---------------------------+"
      ]
     },
     "execution_count": 117,
     "metadata": {},
     "output_type": "execute_result"
    }
   ],
   "source": [
    "%%sql\n",
    "\n",
    "SELECT DISTINCT T.*,C.*\n",
    "FROM Track T\n",
    "JOIN Purchase P\n",
    "ON T.trackid = P.trackid\n",
    "JOIN Customer C\n",
    "ON P.customerid = C.customerid\n",
    "WHERE country = 'Germany'\n",
    "GROUP BY C.firstname, C.lastName\n",
    "ORDER BY customerid;"
   ]
  },
  {
   "cell_type": "markdown",
   "metadata": {
    "collapsed": true,
    "jupyter": {
     "outputs_hidden": true
    }
   },
   "source": [
    "### Q3: [State your question]"
   ]
  },
  {
   "cell_type": "raw",
   "metadata": {},
   "source": [
    "# SQL query to find distinct sales with their customer information For each country, include only the customer first name , last # Name and their ID where unit price is greater than the average unit price of their country  "
   ]
  },
  {
   "cell_type": "code",
   "execution_count": 133,
   "metadata": {},
   "outputs": [
    {
     "data": {
      "text/html": [
       "<span style=\"None\">Running query in &#x27;sqlite:///music_store.db&#x27;</span>"
      ],
      "text/plain": [
       "Running query in 'sqlite:///music_store.db'"
      ]
     },
     "metadata": {},
     "output_type": "display_data"
    },
    {
     "data": {
      "text/html": [
       "<table>\n",
       "    <thead>\n",
       "        <tr>\n",
       "            <th>firstname</th>\n",
       "            <th>lastname</th>\n",
       "            <th>customerid</th>\n",
       "            <th>avg_price</th>\n",
       "        </tr>\n",
       "    </thead>\n",
       "    <tbody>\n",
       "        <tr>\n",
       "            <td>Astrid</td>\n",
       "            <td>Gruber</td>\n",
       "            <td>7</td>\n",
       "            <td>1.12</td>\n",
       "        </tr>\n",
       "        <tr>\n",
       "            <td>Eduardo</td>\n",
       "            <td>Martins</td>\n",
       "            <td>10</td>\n",
       "            <td>1.0</td>\n",
       "        </tr>\n",
       "        <tr>\n",
       "            <td>Mark</td>\n",
       "            <td>Philips</td>\n",
       "            <td>14</td>\n",
       "            <td>1.0</td>\n",
       "        </tr>\n",
       "        <tr>\n",
       "            <td>Luis</td>\n",
       "            <td>Rojas</td>\n",
       "            <td>57</td>\n",
       "            <td>1.23</td>\n",
       "        </tr>\n",
       "        <tr>\n",
       "            <td>Helena</td>\n",
       "            <td>Holý</td>\n",
       "            <td>6</td>\n",
       "            <td>1.19</td>\n",
       "        </tr>\n",
       "        <tr>\n",
       "            <td>Terhi</td>\n",
       "            <td>Hämäläinen</td>\n",
       "            <td>44</td>\n",
       "            <td>1.1</td>\n",
       "        </tr>\n",
       "        <tr>\n",
       "            <td>Dominique</td>\n",
       "            <td>Lefebvre</td>\n",
       "            <td>40</td>\n",
       "            <td>1.03</td>\n",
       "        </tr>\n",
       "        <tr>\n",
       "            <td>Leonie</td>\n",
       "            <td>Köhler</td>\n",
       "            <td>2</td>\n",
       "            <td>1.03</td>\n",
       "        </tr>\n",
       "        <tr>\n",
       "            <td>Ladislav</td>\n",
       "            <td>Kovács</td>\n",
       "            <td>45</td>\n",
       "            <td>1.2</td>\n",
       "        </tr>\n",
       "        <tr>\n",
       "            <td>Puja</td>\n",
       "            <td>Srivastava</td>\n",
       "            <td>59</td>\n",
       "            <td>1.02</td>\n",
       "        </tr>\n",
       "    </tbody>\n",
       "</table>\n",
       "<span style=\"font-style:italic;text-align:center;\">Truncated to <a href=\"https://jupysql.ploomber.io/en/latest/api/configuration.html#displaylimit\">displaylimit</a> of 10.</span>"
      ],
      "text/plain": [
       "+-----------+------------+------------+-----------+\n",
       "| firstname |  lastname  | customerid | avg_price |\n",
       "+-----------+------------+------------+-----------+\n",
       "|   Astrid  |   Gruber   |     7      |    1.12   |\n",
       "|  Eduardo  |  Martins   |     10     |    1.0    |\n",
       "|    Mark   |  Philips   |     14     |    1.0    |\n",
       "|    Luis   |   Rojas    |     57     |    1.23   |\n",
       "|   Helena  |    Holý    |     6      |    1.19   |\n",
       "|   Terhi   | Hämäläinen |     44     |    1.1    |\n",
       "| Dominique |  Lefebvre  |     40     |    1.03   |\n",
       "|   Leonie  |   Köhler   |     2      |    1.03   |\n",
       "|  Ladislav |   Kovács   |     45     |    1.2    |\n",
       "|    Puja   | Srivastava |     59     |    1.02   |\n",
       "+-----------+------------+------------+-----------+\n",
       "Truncated to displaylimit of 10."
      ]
     },
     "execution_count": 133,
     "metadata": {},
     "output_type": "execute_result"
    }
   ],
   "source": [
    "%%sql\n",
    "\n",
    "SELECT DISTINCT C.firstname,C.lastname, C.customerid, ROUND(AVG(UnitPrice),2) as avg_price\n",
    "FROM Customer C\n",
    "JOIN Purchase P\n",
    "ON P.customerid=C.customerid\n",
    "GROUP BY C.Country\n",
    "HAVING P.UnitPrice < AVG(P.UnitPrice)"
   ]
  },
  {
   "cell_type": "markdown",
   "metadata": {},
   "source": [
    "# SAVE YOUR NOTEBOOK"
   ]
  }
 ],
 "metadata": {
  "kernelspec": {
   "display_name": "Python 3 (ipykernel)",
   "language": "python",
   "name": "python3"
  },
  "language_info": {
   "codemirror_mode": {
    "name": "ipython",
    "version": 3
   },
   "file_extension": ".py",
   "mimetype": "text/x-python",
   "name": "python",
   "nbconvert_exporter": "python",
   "pygments_lexer": "ipython3",
   "version": "3.11.5"
  }
 },
 "nbformat": 4,
 "nbformat_minor": 4
}
